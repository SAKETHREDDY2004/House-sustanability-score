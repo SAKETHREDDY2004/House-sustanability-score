{
 "cells": [
  {
   "cell_type": "code",
   "execution_count": 252,
   "id": "170b4c20",
   "metadata": {},
   "outputs": [],
   "source": [
    "import pandas as pd\n",
    "import numpy as np\n",
    "import matplotlib.pyplot as plt\n",
    "import seaborn as sns\n",
    "\n",
    "sns.set()"
   ]
  },
  {
   "cell_type": "code",
   "execution_count": 253,
   "id": "5be84fd4",
   "metadata": {},
   "outputs": [],
   "source": [
    "train_data=pd.read_csv('train_data.csv')"
   ]
  },
  {
   "cell_type": "code",
   "execution_count": 254,
   "id": "f40cf3e7",
   "metadata": {},
   "outputs": [
    {
     "name": "stdout",
     "output_type": "stream",
     "text": [
      "<class 'pandas.core.frame.DataFrame'>\n",
      "RangeIndex: 39499 entries, 0 to 39498\n",
      "Data columns (total 15 columns):\n",
      " #   Column                  Non-Null Count  Dtype  \n",
      "---  ------                  --------------  -----  \n",
      " 0   Unnamed: 0              39499 non-null  int64  \n",
      " 1   Property_Type           39499 non-null  object \n",
      " 2   Property_Area           39499 non-null  int64  \n",
      " 3   Number_of_Windows       39499 non-null  float64\n",
      " 4   Number_of_Doors         39499 non-null  int64  \n",
      " 5   Furnishing              38457 non-null  object \n",
      " 6   Frequency_of_Powercuts  38116 non-null  float64\n",
      " 7   Power_Backup            39499 non-null  object \n",
      " 8   Water_Supply            39499 non-null  object \n",
      " 9   Traffic_Density_Score   39499 non-null  float64\n",
      " 10  Crime_Rate              38712 non-null  object \n",
      " 11  Dust_and_Noise          38280 non-null  object \n",
      " 12  Air_Quality_Index       39499 non-null  float64\n",
      " 13  Neighborhood_Review     39499 non-null  float64\n",
      " 14  Habitability_score      39499 non-null  float64\n",
      "dtypes: float64(6), int64(3), object(6)\n",
      "memory usage: 4.5+ MB\n"
     ]
    }
   ],
   "source": [
    "train_data.info()"
   ]
  },
  {
   "cell_type": "code",
   "execution_count": 255,
   "id": "8bda4199",
   "metadata": {},
   "outputs": [],
   "source": [
    "train_data.drop(\"Unnamed: 0\",axis=1, inplace=True)"
   ]
  },
  {
   "cell_type": "code",
   "execution_count": 256,
   "id": "e2266b03",
   "metadata": {},
   "outputs": [
    {
     "data": {
      "text/html": [
       "<div>\n",
       "<style scoped>\n",
       "    .dataframe tbody tr th:only-of-type {\n",
       "        vertical-align: middle;\n",
       "    }\n",
       "\n",
       "    .dataframe tbody tr th {\n",
       "        vertical-align: top;\n",
       "    }\n",
       "\n",
       "    .dataframe thead th {\n",
       "        text-align: right;\n",
       "    }\n",
       "</style>\n",
       "<table border=\"1\" class=\"dataframe\">\n",
       "  <thead>\n",
       "    <tr style=\"text-align: right;\">\n",
       "      <th></th>\n",
       "      <th>Property_Type</th>\n",
       "      <th>Property_Area</th>\n",
       "      <th>Number_of_Windows</th>\n",
       "      <th>Number_of_Doors</th>\n",
       "      <th>Furnishing</th>\n",
       "      <th>Frequency_of_Powercuts</th>\n",
       "      <th>Power_Backup</th>\n",
       "      <th>Water_Supply</th>\n",
       "      <th>Traffic_Density_Score</th>\n",
       "      <th>Crime_Rate</th>\n",
       "      <th>Dust_and_Noise</th>\n",
       "      <th>Air_Quality_Index</th>\n",
       "      <th>Neighborhood_Review</th>\n",
       "      <th>Habitability_score</th>\n",
       "    </tr>\n",
       "  </thead>\n",
       "  <tbody>\n",
       "    <tr>\n",
       "      <th>0</th>\n",
       "      <td>Apartment</td>\n",
       "      <td>106</td>\n",
       "      <td>2.000000</td>\n",
       "      <td>1</td>\n",
       "      <td>Semi_Furnished</td>\n",
       "      <td>0.0</td>\n",
       "      <td>No</td>\n",
       "      <td>Once in a day - Morning</td>\n",
       "      <td>5.89</td>\n",
       "      <td>Slightly below average</td>\n",
       "      <td>Medium</td>\n",
       "      <td>90.0</td>\n",
       "      <td>3.86</td>\n",
       "      <td>71.98</td>\n",
       "    </tr>\n",
       "    <tr>\n",
       "      <th>1</th>\n",
       "      <td>Apartment</td>\n",
       "      <td>733</td>\n",
       "      <td>4.000000</td>\n",
       "      <td>2</td>\n",
       "      <td>Unfurnished</td>\n",
       "      <td>1.0</td>\n",
       "      <td>No</td>\n",
       "      <td>Once in a day - Evening</td>\n",
       "      <td>4.37</td>\n",
       "      <td>Well below average</td>\n",
       "      <td>Medium</td>\n",
       "      <td>96.0</td>\n",
       "      <td>3.55</td>\n",
       "      <td>71.20</td>\n",
       "    </tr>\n",
       "    <tr>\n",
       "      <th>2</th>\n",
       "      <td>Apartment</td>\n",
       "      <td>737</td>\n",
       "      <td>3.000000</td>\n",
       "      <td>2</td>\n",
       "      <td>Fully Furnished</td>\n",
       "      <td>0.0</td>\n",
       "      <td>No</td>\n",
       "      <td>Once in a day - Morning</td>\n",
       "      <td>7.45</td>\n",
       "      <td>Slightly below average</td>\n",
       "      <td>Medium</td>\n",
       "      <td>121.0</td>\n",
       "      <td>3.81</td>\n",
       "      <td>71.39</td>\n",
       "    </tr>\n",
       "    <tr>\n",
       "      <th>3</th>\n",
       "      <td>Apartment</td>\n",
       "      <td>900</td>\n",
       "      <td>14.000000</td>\n",
       "      <td>2</td>\n",
       "      <td>Unfurnished</td>\n",
       "      <td>2.0</td>\n",
       "      <td>Yes</td>\n",
       "      <td>Once in a day - Morning</td>\n",
       "      <td>6.16</td>\n",
       "      <td>Well above average</td>\n",
       "      <td>Medium</td>\n",
       "      <td>100.0</td>\n",
       "      <td>1.34</td>\n",
       "      <td>31.46</td>\n",
       "    </tr>\n",
       "    <tr>\n",
       "      <th>4</th>\n",
       "      <td>Bungalow</td>\n",
       "      <td>2238</td>\n",
       "      <td>3.000000</td>\n",
       "      <td>6</td>\n",
       "      <td>Fully Furnished</td>\n",
       "      <td>0.0</td>\n",
       "      <td>No</td>\n",
       "      <td>All time</td>\n",
       "      <td>5.46</td>\n",
       "      <td>Well below average</td>\n",
       "      <td>Medium</td>\n",
       "      <td>116.0</td>\n",
       "      <td>4.77</td>\n",
       "      <td>93.70</td>\n",
       "    </tr>\n",
       "    <tr>\n",
       "      <th>...</th>\n",
       "      <td>...</td>\n",
       "      <td>...</td>\n",
       "      <td>...</td>\n",
       "      <td>...</td>\n",
       "      <td>...</td>\n",
       "      <td>...</td>\n",
       "      <td>...</td>\n",
       "      <td>...</td>\n",
       "      <td>...</td>\n",
       "      <td>...</td>\n",
       "      <td>...</td>\n",
       "      <td>...</td>\n",
       "      <td>...</td>\n",
       "      <td>...</td>\n",
       "    </tr>\n",
       "    <tr>\n",
       "      <th>39494</th>\n",
       "      <td>Single-family home</td>\n",
       "      <td>1120</td>\n",
       "      <td>1.525186</td>\n",
       "      <td>2</td>\n",
       "      <td>NaN</td>\n",
       "      <td>0.0</td>\n",
       "      <td>No</td>\n",
       "      <td>All time</td>\n",
       "      <td>5.55</td>\n",
       "      <td>Slightly above average</td>\n",
       "      <td>Medium</td>\n",
       "      <td>80.0</td>\n",
       "      <td>3.56</td>\n",
       "      <td>73.43</td>\n",
       "    </tr>\n",
       "    <tr>\n",
       "      <th>39495</th>\n",
       "      <td>Apartment</td>\n",
       "      <td>445</td>\n",
       "      <td>2.492152</td>\n",
       "      <td>3</td>\n",
       "      <td>Fully Furnished</td>\n",
       "      <td>1.0</td>\n",
       "      <td>No</td>\n",
       "      <td>All time</td>\n",
       "      <td>5.70</td>\n",
       "      <td>Slightly above average</td>\n",
       "      <td>Medium</td>\n",
       "      <td>86.0</td>\n",
       "      <td>2.93</td>\n",
       "      <td>79.91</td>\n",
       "    </tr>\n",
       "    <tr>\n",
       "      <th>39496</th>\n",
       "      <td>Bungalow</td>\n",
       "      <td>3780</td>\n",
       "      <td>2.492039</td>\n",
       "      <td>6</td>\n",
       "      <td>Unfurnished</td>\n",
       "      <td>0.0</td>\n",
       "      <td>Yes</td>\n",
       "      <td>Once in two days</td>\n",
       "      <td>6.84</td>\n",
       "      <td>Well below average</td>\n",
       "      <td>Medium</td>\n",
       "      <td>137.0</td>\n",
       "      <td>3.80</td>\n",
       "      <td>81.44</td>\n",
       "    </tr>\n",
       "    <tr>\n",
       "      <th>39497</th>\n",
       "      <td>Single-family home</td>\n",
       "      <td>1266</td>\n",
       "      <td>3.505327</td>\n",
       "      <td>1</td>\n",
       "      <td>Semi_Furnished</td>\n",
       "      <td>0.0</td>\n",
       "      <td>No</td>\n",
       "      <td>Once in a day - Morning</td>\n",
       "      <td>4.60</td>\n",
       "      <td>Slightly above average</td>\n",
       "      <td>NaN</td>\n",
       "      <td>88.0</td>\n",
       "      <td>3.25</td>\n",
       "      <td>71.33</td>\n",
       "    </tr>\n",
       "    <tr>\n",
       "      <th>39498</th>\n",
       "      <td>Single-family home</td>\n",
       "      <td>1229</td>\n",
       "      <td>2.491699</td>\n",
       "      <td>4</td>\n",
       "      <td>Fully Furnished</td>\n",
       "      <td>0.0</td>\n",
       "      <td>No</td>\n",
       "      <td>All time</td>\n",
       "      <td>8.29</td>\n",
       "      <td>Well below average</td>\n",
       "      <td>High</td>\n",
       "      <td>132.0</td>\n",
       "      <td>4.67</td>\n",
       "      <td>83.25</td>\n",
       "    </tr>\n",
       "  </tbody>\n",
       "</table>\n",
       "<p>39499 rows × 14 columns</p>\n",
       "</div>"
      ],
      "text/plain": [
       "            Property_Type  Property_Area  Number_of_Windows  Number_of_Doors  \\\n",
       "0               Apartment            106           2.000000                1   \n",
       "1               Apartment            733           4.000000                2   \n",
       "2               Apartment            737           3.000000                2   \n",
       "3               Apartment            900          14.000000                2   \n",
       "4                Bungalow           2238           3.000000                6   \n",
       "...                   ...            ...                ...              ...   \n",
       "39494  Single-family home           1120           1.525186                2   \n",
       "39495           Apartment            445           2.492152                3   \n",
       "39496            Bungalow           3780           2.492039                6   \n",
       "39497  Single-family home           1266           3.505327                1   \n",
       "39498  Single-family home           1229           2.491699                4   \n",
       "\n",
       "            Furnishing  Frequency_of_Powercuts Power_Backup  \\\n",
       "0       Semi_Furnished                     0.0           No   \n",
       "1          Unfurnished                     1.0           No   \n",
       "2      Fully Furnished                     0.0           No   \n",
       "3          Unfurnished                     2.0          Yes   \n",
       "4      Fully Furnished                     0.0           No   \n",
       "...                ...                     ...          ...   \n",
       "39494              NaN                     0.0           No   \n",
       "39495  Fully Furnished                     1.0           No   \n",
       "39496      Unfurnished                     0.0          Yes   \n",
       "39497   Semi_Furnished                     0.0           No   \n",
       "39498  Fully Furnished                     0.0           No   \n",
       "\n",
       "                  Water_Supply  Traffic_Density_Score              Crime_Rate  \\\n",
       "0      Once in a day - Morning                   5.89  Slightly below average   \n",
       "1      Once in a day - Evening                   4.37      Well below average   \n",
       "2      Once in a day - Morning                   7.45  Slightly below average   \n",
       "3      Once in a day - Morning                   6.16      Well above average   \n",
       "4                     All time                   5.46      Well below average   \n",
       "...                        ...                    ...                     ...   \n",
       "39494                 All time                   5.55  Slightly above average   \n",
       "39495                 All time                   5.70  Slightly above average   \n",
       "39496         Once in two days                   6.84      Well below average   \n",
       "39497  Once in a day - Morning                   4.60  Slightly above average   \n",
       "39498                 All time                   8.29      Well below average   \n",
       "\n",
       "      Dust_and_Noise  Air_Quality_Index  Neighborhood_Review  \\\n",
       "0             Medium               90.0                 3.86   \n",
       "1             Medium               96.0                 3.55   \n",
       "2             Medium              121.0                 3.81   \n",
       "3             Medium              100.0                 1.34   \n",
       "4             Medium              116.0                 4.77   \n",
       "...              ...                ...                  ...   \n",
       "39494         Medium               80.0                 3.56   \n",
       "39495         Medium               86.0                 2.93   \n",
       "39496         Medium              137.0                 3.80   \n",
       "39497            NaN               88.0                 3.25   \n",
       "39498           High              132.0                 4.67   \n",
       "\n",
       "       Habitability_score  \n",
       "0                   71.98  \n",
       "1                   71.20  \n",
       "2                   71.39  \n",
       "3                   31.46  \n",
       "4                   93.70  \n",
       "...                   ...  \n",
       "39494               73.43  \n",
       "39495               79.91  \n",
       "39496               81.44  \n",
       "39497               71.33  \n",
       "39498               83.25  \n",
       "\n",
       "[39499 rows x 14 columns]"
      ]
     },
     "execution_count": 256,
     "metadata": {},
     "output_type": "execute_result"
    }
   ],
   "source": [
    "train_data"
   ]
  },
  {
   "cell_type": "code",
   "execution_count": 257,
   "id": "18ee69f0",
   "metadata": {},
   "outputs": [
    {
     "data": {
      "image/png": "[encoded data removed]",
      "text/plain": [
       "<Figure size 864x720 with 2 Axes>"
      ]
     },
     "metadata": {},
     "output_type": "display_data"
    }
   ],
   "source": [
    "plt.figure(figsize=(12,10))\n",
    "cor = train_data.corr()\n",
    "sns.heatmap(cor, annot=True, cmap=plt.cm.CMRmap_r)\n",
    "plt.show()"
   ]
  },
  {
   "cell_type": "code",
   "execution_count": 258,
   "id": "d8fddd03",
   "metadata": {},
   "outputs": [],
   "source": [
    "data_for_powercuts=train_data[['Frequency_of_Powercuts','Neighborhood_Review']]"
   ]
  },
  {
   "cell_type": "code",
   "execution_count": 259,
   "id": "befe1866",
   "metadata": {},
   "outputs": [
    {
     "data": {
      "text/plain": [
       "(38116, 2)"
      ]
     },
     "execution_count": 259,
     "metadata": {},
     "output_type": "execute_result"
    }
   ],
   "source": [
    "non_nan_data_for_powercuts=data_for_powercuts.dropna()\n",
    "non_nan_data_for_powercuts.shape"
   ]
  },
  {
   "cell_type": "code",
   "execution_count": 260,
   "id": "a81b3317",
   "metadata": {},
   "outputs": [],
   "source": [
    "x_train=non_nan_data_for_powercuts.drop('Frequency_of_Powercuts',axis=1)"
   ]
  },
  {
   "cell_type": "code",
   "execution_count": 261,
   "id": "1e28cf0b",
   "metadata": {},
   "outputs": [
    {
     "data": {
      "text/plain": [
       "(38116, 1)"
      ]
     },
     "execution_count": 261,
     "metadata": {},
     "output_type": "execute_result"
    }
   ],
   "source": [
    "x_train.shape"
   ]
  },
  {
   "cell_type": "code",
   "execution_count": 262,
   "id": "b0409345",
   "metadata": {},
   "outputs": [
    {
     "data": {
      "text/plain": [
       "(38116, 2)"
      ]
     },
     "execution_count": 262,
     "metadata": {},
     "output_type": "execute_result"
    }
   ],
   "source": [
    "y_train=non_nan_data_for_powercuts['Frequency_of_Powercuts']\n",
    "non_nan_data_for_powercuts.shape"
   ]
  },
  {
   "cell_type": "code",
   "execution_count": 263,
   "id": "c80df735",
   "metadata": {},
   "outputs": [],
   "source": [
    "nan_data_for_powercuts=data_for_powercuts[data_for_powercuts[\"Frequency_of_Powercuts\"].isnull()]"
   ]
  },
  {
   "cell_type": "code",
   "execution_count": 264,
   "id": "9df5a996",
   "metadata": {},
   "outputs": [
    {
     "data": {
      "text/html": [
       "<div>\n",
       "<style scoped>\n",
       "    .dataframe tbody tr th:only-of-type {\n",
       "        vertical-align: middle;\n",
       "    }\n",
       "\n",
       "    .dataframe tbody tr th {\n",
       "        vertical-align: top;\n",
       "    }\n",
       "\n",
       "    .dataframe thead th {\n",
       "        text-align: right;\n",
       "    }\n",
       "</style>\n",
       "<table border=\"1\" class=\"dataframe\">\n",
       "  <thead>\n",
       "    <tr style=\"text-align: right;\">\n",
       "      <th></th>\n",
       "      <th>Neighborhood_Review</th>\n",
       "    </tr>\n",
       "  </thead>\n",
       "  <tbody>\n",
       "    <tr>\n",
       "      <th>36</th>\n",
       "      <td>3.80</td>\n",
       "    </tr>\n",
       "    <tr>\n",
       "      <th>58</th>\n",
       "      <td>4.77</td>\n",
       "    </tr>\n",
       "    <tr>\n",
       "      <th>126</th>\n",
       "      <td>4.17</td>\n",
       "    </tr>\n",
       "    <tr>\n",
       "      <th>137</th>\n",
       "      <td>3.52</td>\n",
       "    </tr>\n",
       "    <tr>\n",
       "      <th>151</th>\n",
       "      <td>4.18</td>\n",
       "    </tr>\n",
       "    <tr>\n",
       "      <th>...</th>\n",
       "      <td>...</td>\n",
       "    </tr>\n",
       "    <tr>\n",
       "      <th>39413</th>\n",
       "      <td>4.49</td>\n",
       "    </tr>\n",
       "    <tr>\n",
       "      <th>39431</th>\n",
       "      <td>4.72</td>\n",
       "    </tr>\n",
       "    <tr>\n",
       "      <th>39437</th>\n",
       "      <td>3.21</td>\n",
       "    </tr>\n",
       "    <tr>\n",
       "      <th>39438</th>\n",
       "      <td>3.82</td>\n",
       "    </tr>\n",
       "    <tr>\n",
       "      <th>39493</th>\n",
       "      <td>4.20</td>\n",
       "    </tr>\n",
       "  </tbody>\n",
       "</table>\n",
       "<p>1383 rows × 1 columns</p>\n",
       "</div>"
      ],
      "text/plain": [
       "       Neighborhood_Review\n",
       "36                    3.80\n",
       "58                    4.77\n",
       "126                   4.17\n",
       "137                   3.52\n",
       "151                   4.18\n",
       "...                    ...\n",
       "39413                 4.49\n",
       "39431                 4.72\n",
       "39437                 3.21\n",
       "39438                 3.82\n",
       "39493                 4.20\n",
       "\n",
       "[1383 rows x 1 columns]"
      ]
     },
     "execution_count": 264,
     "metadata": {},
     "output_type": "execute_result"
    }
   ],
   "source": [
    "x_test=nan_data_for_powercuts.drop('Frequency_of_Powercuts',axis=1)\n",
    "x_test"
   ]
  },
  {
   "cell_type": "code",
   "execution_count": 265,
   "id": "d7281280",
   "metadata": {},
   "outputs": [],
   "source": [
    "from sklearn.linear_model import LinearRegression"
   ]
  },
  {
   "cell_type": "markdown",
   "id": "da28c9bb",
   "metadata": {},
   "source": [
    "x_test.reset_index(inplace=True, drop=True)\n",
    "x_train.reset_index(inplace=True, drop=True)\n",
    "y_train.reset_index(inplace=True, drop=True)\n"
   ]
  },
  {
   "cell_type": "code",
   "execution_count": 266,
   "id": "3a9f0cea",
   "metadata": {},
   "outputs": [],
   "source": [
    "lr=LinearRegression()"
   ]
  },
  {
   "cell_type": "code",
   "execution_count": 267,
   "id": "24c65c51",
   "metadata": {},
   "outputs": [
    {
     "data": {
      "text/plain": [
       "LinearRegression()"
      ]
     },
     "execution_count": 267,
     "metadata": {},
     "output_type": "execute_result"
    }
   ],
   "source": [
    "lr.fit(x_train,y_train)"
   ]
  },
  {
   "cell_type": "code",
   "execution_count": 268,
   "id": "2d0e76c9",
   "metadata": {},
   "outputs": [],
   "source": [
    "y_pred=lr.predict(x_test)"
   ]
  },
  {
   "cell_type": "code",
   "execution_count": 269,
   "id": "555f38a3",
   "metadata": {},
   "outputs": [
    {
     "data": {
      "text/plain": [
       "array([ 0.44901697, -0.09167616,  0.2427732 , ...,  0.77789218,\n",
       "        0.43786866,  0.22605073])"
      ]
     },
     "execution_count": 269,
     "metadata": {},
     "output_type": "execute_result"
    }
   ],
   "source": [
    "y_pred"
   ]
  },
  {
   "cell_type": "code",
   "execution_count": 270,
   "id": "651f971e",
   "metadata": {},
   "outputs": [
    {
     "data": {
      "text/plain": [
       "array([[ 0.44901697, -0.09167616,  0.2427732 , ...,  0.77789218,\n",
       "         0.43786866,  0.22605073]])"
      ]
     },
     "execution_count": 270,
     "metadata": {},
     "output_type": "execute_result"
    }
   ],
   "source": [
    "y_pred.reshape(1,1383)"
   ]
  },
  {
   "cell_type": "code",
   "execution_count": 271,
   "id": "da9b3564",
   "metadata": {},
   "outputs": [],
   "source": [
    "x_test['Frequency_of_Powercuts'] = y_pred.tolist()"
   ]
  },
  {
   "cell_type": "code",
   "execution_count": 272,
   "id": "e1832e15",
   "metadata": {},
   "outputs": [
    {
     "data": {
      "text/html": [
       "<div>\n",
       "<style scoped>\n",
       "    .dataframe tbody tr th:only-of-type {\n",
       "        vertical-align: middle;\n",
       "    }\n",
       "\n",
       "    .dataframe tbody tr th {\n",
       "        vertical-align: top;\n",
       "    }\n",
       "\n",
       "    .dataframe thead th {\n",
       "        text-align: right;\n",
       "    }\n",
       "</style>\n",
       "<table border=\"1\" class=\"dataframe\">\n",
       "  <thead>\n",
       "    <tr style=\"text-align: right;\">\n",
       "      <th></th>\n",
       "      <th>Neighborhood_Review</th>\n",
       "      <th>Frequency_of_Powercuts</th>\n",
       "    </tr>\n",
       "  </thead>\n",
       "  <tbody>\n",
       "    <tr>\n",
       "      <th>0</th>\n",
       "      <td>3.80</td>\n",
       "      <td>0.449017</td>\n",
       "    </tr>\n",
       "    <tr>\n",
       "      <th>1</th>\n",
       "      <td>4.77</td>\n",
       "      <td>-0.091676</td>\n",
       "    </tr>\n",
       "    <tr>\n",
       "      <th>2</th>\n",
       "      <td>4.17</td>\n",
       "      <td>0.242773</td>\n",
       "    </tr>\n",
       "    <tr>\n",
       "      <th>3</th>\n",
       "      <td>3.52</td>\n",
       "      <td>0.605093</td>\n",
       "    </tr>\n",
       "    <tr>\n",
       "      <th>4</th>\n",
       "      <td>4.18</td>\n",
       "      <td>0.237199</td>\n",
       "    </tr>\n",
       "    <tr>\n",
       "      <th>...</th>\n",
       "      <td>...</td>\n",
       "      <td>...</td>\n",
       "    </tr>\n",
       "    <tr>\n",
       "      <th>1378</th>\n",
       "      <td>4.49</td>\n",
       "      <td>0.064400</td>\n",
       "    </tr>\n",
       "    <tr>\n",
       "      <th>1379</th>\n",
       "      <td>4.72</td>\n",
       "      <td>-0.063805</td>\n",
       "    </tr>\n",
       "    <tr>\n",
       "      <th>1380</th>\n",
       "      <td>3.21</td>\n",
       "      <td>0.777892</td>\n",
       "    </tr>\n",
       "    <tr>\n",
       "      <th>1381</th>\n",
       "      <td>3.82</td>\n",
       "      <td>0.437869</td>\n",
       "    </tr>\n",
       "    <tr>\n",
       "      <th>1382</th>\n",
       "      <td>4.20</td>\n",
       "      <td>0.226051</td>\n",
       "    </tr>\n",
       "  </tbody>\n",
       "</table>\n",
       "<p>1383 rows × 2 columns</p>\n",
       "</div>"
      ],
      "text/plain": [
       "      Neighborhood_Review  Frequency_of_Powercuts\n",
       "0                    3.80                0.449017\n",
       "1                    4.77               -0.091676\n",
       "2                    4.17                0.242773\n",
       "3                    3.52                0.605093\n",
       "4                    4.18                0.237199\n",
       "...                   ...                     ...\n",
       "1378                 4.49                0.064400\n",
       "1379                 4.72               -0.063805\n",
       "1380                 3.21                0.777892\n",
       "1381                 3.82                0.437869\n",
       "1382                 4.20                0.226051\n",
       "\n",
       "[1383 rows x 2 columns]"
      ]
     },
     "execution_count": 272,
     "metadata": {},
     "output_type": "execute_result"
    }
   ],
   "source": [
    "x_test.reset_index(inplace=True, drop=True)\n",
    "x_test\n"
   ]
  },
  {
   "cell_type": "code",
   "execution_count": 273,
   "id": "12426655",
   "metadata": {},
   "outputs": [],
   "source": [
    "x_train=pd.concat([x_train,y_train], axis=1)"
   ]
  },
  {
   "cell_type": "code",
   "execution_count": 274,
   "id": "33fb4a61",
   "metadata": {},
   "outputs": [],
   "source": [
    "new_data=pd.concat([x_train,x_test], axis=0,ignore_index=True)"
   ]
  },
  {
   "cell_type": "code",
   "execution_count": 275,
   "id": "6183ddab",
   "metadata": {},
   "outputs": [
    {
     "name": "stdout",
     "output_type": "stream",
     "text": [
      "<class 'pandas.core.frame.DataFrame'>\n",
      "RangeIndex: 39499 entries, 0 to 39498\n",
      "Data columns (total 2 columns):\n",
      " #   Column                  Non-Null Count  Dtype  \n",
      "---  ------                  --------------  -----  \n",
      " 0   Neighborhood_Review     39499 non-null  float64\n",
      " 1   Frequency_of_Powercuts  39499 non-null  float64\n",
      "dtypes: float64(2)\n",
      "memory usage: 617.3 KB\n"
     ]
    }
   ],
   "source": [
    "new_data.info()"
   ]
  },
  {
   "cell_type": "code",
   "execution_count": 276,
   "id": "f58e762c",
   "metadata": {},
   "outputs": [],
   "source": [
    "train_data['Frequency_of_Powercuts'] = new_data['Frequency_of_Powercuts']"
   ]
  },
  {
   "cell_type": "code",
   "execution_count": 277,
   "id": "a6a8deca",
   "metadata": {},
   "outputs": [
    {
     "name": "stdout",
     "output_type": "stream",
     "text": [
      "<class 'pandas.core.frame.DataFrame'>\n",
      "RangeIndex: 39499 entries, 0 to 39498\n",
      "Data columns (total 14 columns):\n",
      " #   Column                  Non-Null Count  Dtype  \n",
      "---  ------                  --------------  -----  \n",
      " 0   Property_Type           39499 non-null  object \n",
      " 1   Property_Area           39499 non-null  int64  \n",
      " 2   Number_of_Windows       39499 non-null  float64\n",
      " 3   Number_of_Doors         39499 non-null  int64  \n",
      " 4   Furnishing              38457 non-null  object \n",
      " 5   Frequency_of_Powercuts  39499 non-null  float64\n",
      " 6   Power_Backup            39499 non-null  object \n",
      " 7   Water_Supply            39499 non-null  object \n",
      " 8   Traffic_Density_Score   39499 non-null  float64\n",
      " 9   Crime_Rate              38712 non-null  object \n",
      " 10  Dust_and_Noise          38280 non-null  object \n",
      " 11  Air_Quality_Index       39499 non-null  float64\n",
      " 12  Neighborhood_Review     39499 non-null  float64\n",
      " 13  Habitability_score      39499 non-null  float64\n",
      "dtypes: float64(6), int64(2), object(6)\n",
      "memory usage: 4.2+ MB\n"
     ]
    }
   ],
   "source": [
    "train_data.info()"
   ]
  },
  {
   "cell_type": "code",
   "execution_count": 279,
   "id": "58b4d3b0",
   "metadata": {},
   "outputs": [],
   "source": [
    "train_data.to_csv('train_data_1.csv')"
   ]
  },
  {
   "cell_type": "code",
   "execution_count": null,
   "id": "12f55fe8",
   "metadata": {},
   "outputs": [],
   "source": []
  }
 ],
 "metadata": {
  "kernelspec": {
   "display_name": "Python 3 (ipykernel)",
   "language": "python",
   "name": "python3"
  },
  "language_info": {
   "codemirror_mode": {
    "name": "ipython",
    "version": 3
   },
   "file_extension": ".py",
   "mimetype": "text/x-python",
   "name": "python",
   "nbconvert_exporter": "python",
   "pygments_lexer": "ipython3",
   "version": "3.9.7"
  }
 },
 "nbformat": 4,
 "nbformat_minor": 5
}
